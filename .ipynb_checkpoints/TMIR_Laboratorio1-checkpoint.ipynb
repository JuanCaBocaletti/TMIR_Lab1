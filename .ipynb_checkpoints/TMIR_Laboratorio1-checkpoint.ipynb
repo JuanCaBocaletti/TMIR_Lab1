{
 "cells": [
  {
   "cell_type": "markdown",
   "id": "2377c008-f5f5-41ff-99d0-6ddab557ce30",
   "metadata": {},
   "source": [
    "# Text Mining & Image Recognition\n",
    "## Hoja de Trabajo # 1"
   ]
  },
  {
   "cell_type": "code",
   "execution_count": null,
   "id": "47aa3141-dd58-40fc-ac3f-e0816a50cf5b",
   "metadata": {},
   "outputs": [],
   "source": []
  }
 ],
 "metadata": {
  "kernelspec": {
   "display_name": "Python 3 (ipykernel)",
   "language": "python",
   "name": "python3"
  },
  "language_info": {
   "codemirror_mode": {
    "name": "ipython",
    "version": 3
   },
   "file_extension": ".py",
   "mimetype": "text/x-python",
   "name": "python",
   "nbconvert_exporter": "python",
   "pygments_lexer": "ipython3",
   "version": "3.11.5"
  }
 },
 "nbformat": 4,
 "nbformat_minor": 5
}
